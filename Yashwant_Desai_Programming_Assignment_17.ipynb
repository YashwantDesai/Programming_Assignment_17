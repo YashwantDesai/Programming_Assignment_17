{
 "cells": [
  {
   "cell_type": "markdown",
   "id": "0c27a818",
   "metadata": {},
   "source": [
    "# Yashwant Desai –  Programming_Assingment 17"
   ]
  },
  {
   "cell_type": "markdown",
   "id": "14596e3c",
   "metadata": {},
   "source": [
    "# Question1. "
   ]
  },
  {
   "cell_type": "raw",
   "id": "d76702bd",
   "metadata": {},
   "source": [
    "Create a function that takes three arguments a, b, c and returns the sum of the numbers that are evenly divided by c from the range a, b inclusive.\n",
    "Examples\n",
    "evenly_divisible(1, 10, 20) ➞ 0\n",
    "# No number between 1 and 10 can be evenly divided by 20.\n",
    "evenly_divisible(1, 10, 2) ➞ 30\n",
    "# 2 + 4 + 6 + 8 + 10 = 30\n",
    "evenly_divisible(1, 10, 3) ➞ 18\n",
    "# 3 + 6 + 9 = 18"
   ]
  },
  {
   "cell_type": "code",
   "execution_count": 11,
   "id": "68c5eae1",
   "metadata": {},
   "outputs": [
    {
     "name": "stdout",
     "output_type": "stream",
     "text": [
      "evently divisible 1,10,20: 0\n",
      "evently divisible 1,10,2: 30\n",
      "evently divisible 1,10,3: 18\n"
     ]
    }
   ],
   "source": [
    "def check_evenly_divided(a,b,c):\n",
    "    total_sum = 0\n",
    "    for num in range(a,b + 1):\n",
    "        if num %c ==0:\n",
    "            total_sum +=num\n",
    "    return total_sum\n",
    "result1 = check_evenly_divided(1,10,20)\n",
    "result2 = check_evenly_divided(1,10,2)\n",
    "result3 = check_evenly_divided(1,10,3)\n",
    "print(f\"evently divisible 1,10,20: {result1}\")\n",
    "print(f\"evently divisible 1,10,2: {result2}\")\n",
    "print(f\"evently divisible 1,10,3: {result3}\")"
   ]
  },
  {
   "cell_type": "markdown",
   "id": "7a9e4a2b",
   "metadata": {},
   "source": [
    "# Question2"
   ]
  },
  {
   "cell_type": "markdown",
   "id": "316618f1",
   "metadata": {},
   "source": [
    "Create a function that returns True if a given inequality expression is correct and False otherwise.\n",
    "Examples\n",
    "correct_signs(\"3 < 7 < 11\") ➞ True\n",
    "correct_signs(\"13 > 44 > 33 > 1\") ➞ False\n",
    "correct_signs(\"1 < 2 < 6 < 9 > 3\") ➞ True"
   ]
  },
  {
   "cell_type": "code",
   "execution_count": 37,
   "id": "4783c4b6",
   "metadata": {},
   "outputs": [
    {
     "name": "stdout",
     "output_type": "stream",
     "text": [
      "3 < 7 < 11 expression result is True\n",
      "13 > 44 > 33 > 1 expression result is False\n",
      "1 < 2 < 6 < 9 > 3 expression result is False\n"
     ]
    }
   ],
   "source": [
    "def correct_expression(expr):\n",
    "    parts = expr.split()\n",
    "    for i in range(1, len(parts), 2):\n",
    "        sign = parts[i]\n",
    "        left_value = int(parts[i - 1])\n",
    "        right_value = int(parts[i + 1])\n",
    "        if sign == '<' and not (left_value < right_value):\n",
    "            return False\n",
    "        elif sign == '>' and not (left_value > right_value):\n",
    "            return False\n",
    "        elif sign == '<=' and not (left_value <= right_value):\n",
    "            return False\n",
    "        elif sign == '>=' and not (left_value >= right_value):\n",
    "            return False\n",
    "    return True\n",
    "result1 = (correct_expression(\"3 < 7 < 11\"))\n",
    "result2 = (correct_expression(\"13 > 44 > 33 > 1\"))\n",
    "result3 = (correct_expression(\"1 < 2 < 6 < 9 > 3\"))\n",
    "\n",
    "print(f\"3 < 7 < 11 expression result is {result1}\")\n",
    "print(f\"13 > 44 > 33 > 1 expression result is {result2}\")\n",
    "print(f\"1 < 2 < 6 < 9 > 3 expression result is {result2}\")"
   ]
  },
  {
   "cell_type": "markdown",
   "id": "88cc6a3f",
   "metadata": {},
   "source": [
    "# Question3\n",
    "Create a function that replaces all the vowels in a string with a specified character.\n",
    "Examples\n",
    "replace_vowels(\"the aardvark\", \"#\") ➞ \"th# ##rdv#rk\"\n",
    "replace_vowels(\"minnie mouse\", \"?\") ➞ \"m?nn?? m??s?\"\n",
    "replace_vowels(\"shakespeare\", \"*\") ➞ \"sh*k*sp**r*\""
   ]
  },
  {
   "cell_type": "code",
   "execution_count": 40,
   "id": "3d46a895",
   "metadata": {},
   "outputs": [
    {
     "name": "stdout",
     "output_type": "stream",
     "text": [
      "result for the aardvark is th# ##rdv#rk\n",
      "result for minnie mouse is m?nn?? m??s?\n",
      "result for shakespeare is sh*k*sp**r*\n"
     ]
    }
   ],
   "source": [
    "def replace_vowels(user_input,replace_with):\n",
    "    vowels = \"aeiouAEIOU\"\n",
    "    result = \"\"\n",
    "    for string in user_input:\n",
    "        if string in vowels:\n",
    "            result += replace_with\n",
    "        else:\n",
    "            result += string\n",
    "    return result\n",
    "result1 = (replace_vowels(\"the aardvark\",\"#\"))\n",
    "result2 = (replace_vowels(\"minnie mouse\",\"?\"))\n",
    "result3 = (replace_vowels(\"shakespeare\",\"*\"))\n",
    "\n",
    "print(f\"result for the aardvark is {result1}\")\n",
    "print(f\"result for minnie mouse is {result2}\")\n",
    "print(f\"result for shakespeare is {result3}\")"
   ]
  },
  {
   "cell_type": "markdown",
   "id": "747638ab",
   "metadata": {},
   "source": [
    "# Question4.\n",
    "Write a function that calculates the factorial of a number recursively.\n",
    "Examples\n",
    "factorial(5) ➞ 120\n",
    "factorial(3) ➞ 6\n",
    "factorial(1) ➞ 1\n",
    "factorial(0) ➞ 1"
   ]
  },
  {
   "cell_type": "code",
   "execution_count": 25,
   "id": "1b096abb",
   "metadata": {},
   "outputs": [
    {
     "name": "stdout",
     "output_type": "stream",
     "text": [
      "factorial of 5 is 120\n",
      "factorial of 3 is 6\n",
      "factorial of 1 is 1\n",
      "factorial of 0 is 1\n"
     ]
    }
   ],
   "source": [
    "def factorial(n):\n",
    "    if n == 0 or n == 1:\n",
    "        return 1\n",
    "    else:\n",
    "        return n * factorial(n - 1)\n",
    "print(f\"factorial of 5 is {(factorial(5))}\")\n",
    "print(f\"factorial of 3 is {(factorial(3))}\")\n",
    "print(f\"factorial of 1 is {(factorial(1))}\")\n",
    "print(f\"factorial of 0 is {(factorial(0))}\")"
   ]
  },
  {
   "cell_type": "markdown",
   "id": "67348de4",
   "metadata": {},
   "source": [
    "# Question 5\n",
    "Hamming distance is the number of characters that differ between two strings.\n",
    "To illustrate:\n",
    "String1: \"abcbba\"\n",
    "String2: \"abcbda\"\n",
    "Hamming Distance: 1 - \"b\" vs. \"d\" is the only difference.\n",
    "Create a function that computes the hamming distance between two strings.\n",
    "Examples\n",
    "hamming_distance(\"abcde\", \"bcdef\") ➞ 5\n",
    "hamming_distance(\"abcde\", \"abcde\") ➞ 0\n",
    "hamming_distance(\"strong\", \"strung\") ➞ 1"
   ]
  },
  {
   "cell_type": "code",
   "execution_count": 35,
   "id": "9805e26a",
   "metadata": {},
   "outputs": [
    {
     "name": "stdout",
     "output_type": "stream",
     "text": [
      "hamming distance for abcde,bcdef is 5\n",
      "hamming distance for abcde,abcde is 0\n",
      "hamming distance for astrong,strung is 1\n"
     ]
    }
   ],
   "source": [
    "def hamming_distance(string1, string2):\n",
    "    if len(string1)!= len(string2):\n",
    "        raise ValueError(\"error\")\n",
    "    hamming_distance = sum(ch1 != ch2 for ch1, ch2 in zip(string1, string2))\n",
    "    return hamming_distance\n",
    "result1 = (hamming_distance(\"abcde\", \"bcdef\"))\n",
    "result2 = (hamming_distance(\"abcde\", \"abcde\"))\n",
    "result3 = (hamming_distance(\"strong\", \"strung\"))\n",
    "print(f\"hamming distance for abcde,bcdef is {result1}\")\n",
    "print(f\"hamming distance for abcde,abcde is {result2}\")\n",
    "print(f\"hamming distance for astrong,strung is {result3}\")"
   ]
  },
  {
   "cell_type": "markdown",
   "id": "a79c0885",
   "metadata": {},
   "source": [
    "# Done Regards,Yashwant"
   ]
  }
 ],
 "metadata": {
  "kernelspec": {
   "display_name": "Python 3 (ipykernel)",
   "language": "python",
   "name": "python3"
  },
  "language_info": {
   "codemirror_mode": {
    "name": "ipython",
    "version": 3
   },
   "file_extension": ".py",
   "mimetype": "text/x-python",
   "name": "python",
   "nbconvert_exporter": "python",
   "pygments_lexer": "ipython3",
   "version": "3.9.13"
  }
 },
 "nbformat": 4,
 "nbformat_minor": 5
}
